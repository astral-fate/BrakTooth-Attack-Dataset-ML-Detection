{
 "cells": [
  {
   "cell_type": "markdown",
   "id": "485c7712",
   "metadata": {},
   "source": [
    "# Install libraries "
   ]
  },
  {
   "cell_type": "code",
   "execution_count": 3,
   "id": "928bb74e",
   "metadata": {},
   "outputs": [],
   "source": [
    "import pandas as pd\n",
    "import time\n",
    "import numpy as np\n",
    "import seaborn as sns\n",
    "import matplotlib.pyplot as plt\n",
    "from sklearn.svm import SVC\n",
    "from sklearn.model_selection import GridSearchCV\n",
    "from sklearn.metrics import classification_report, confusion_matrix\n",
    "from sklearn.model_selection import train_test_split\n",
    "from sklearn.tree import DecisionTreeClassifier\n",
    "from sklearn.svm import SVC\n",
    "from sklearn.model_selection import train_test_split\n",
    "from sklearn.metrics import classification_report\n",
    "from sklearn.naive_bayes import GaussianNB\n",
    "from sklearn.metrics import mean_squared_error, r2_score\n",
    "from sklearn.metrics import mean_squared_error\n",
    "from sklearn.tree import DecisionTreeClassifier\n",
    "import warnings\n",
    "from sklearn.svm import SVC\n",
    "from sklearn.metrics import classification_report\n",
    "from sklearn.model_selection import train_test_split\n",
    "import time\n",
    "import numpy as np\n",
    "import pandas as pd\n",
    "\n",
    "from matplotlib import pyplot\n",
    "\n",
    "import sklearn\n",
    "from sklearn.preprocessing import MinMaxScaler"
   ]
  },
  {
   "cell_type": "code",
   "execution_count": 42,
   "id": "0978926c",
   "metadata": {},
   "outputs": [],
   "source": [
    "import pandas as pd\n",
    "from sklearn.preprocessing import LabelEncoder, OneHotEncoder\n",
    "from sklearn.compose import ColumnTransformer"
   ]
  },
  {
   "cell_type": "code",
   "execution_count": 95,
   "id": "bf85ca19",
   "metadata": {},
   "outputs": [],
   "source": [
    "from tensorflow.keras import Sequential\n",
    "from tensorflow.keras.models import Sequential, Model\n",
    "from tensorflow.keras.layers import Conv2D, Input, Dropout, Activation, Dense, MaxPooling2D, Flatten, GlobalAveragePooling2D\n",
    "from tensorflow.keras.optimizers import Adadelta\n",
    "from tensorflow.keras.callbacks import ModelCheckpoint\n",
    "from tensorflow.keras.layers import Dense\n",
    "from tensorflow.keras.layers import LSTM"
   ]
  },
  {
   "cell_type": "markdown",
   "id": "b78a5a7f",
   "metadata": {},
   "source": [
    "# Read the Excel file into a Pandas DataFrame"
   ]
  },
  {
   "cell_type": "code",
   "execution_count": 38,
   "id": "07fcfd27",
   "metadata": {},
   "outputs": [],
   "source": [
    "# Read the Excel file into a Pandas DataFrame\n",
    "data = pd.read_csv('X_train.csv')"
   ]
  },
  {
   "cell_type": "markdown",
   "id": "caaf8412",
   "metadata": {},
   "source": [
    "# Examine the dataframe"
   ]
  },
  {
   "cell_type": "code",
   "execution_count": 56,
   "id": "003f383e",
   "metadata": {},
   "outputs": [
    {
     "data": {
      "text/html": [
       "<div>\n",
       "<style scoped>\n",
       "    .dataframe tbody tr th:only-of-type {\n",
       "        vertical-align: middle;\n",
       "    }\n",
       "\n",
       "    .dataframe tbody tr th {\n",
       "        vertical-align: top;\n",
       "    }\n",
       "\n",
       "    .dataframe thead th {\n",
       "        text-align: right;\n",
       "    }\n",
       "</style>\n",
       "<table border=\"1\" class=\"dataframe\">\n",
       "  <thead>\n",
       "    <tr style=\"text-align: right;\">\n",
       "      <th></th>\n",
       "      <th>Protocol</th>\n",
       "      <th>Info</th>\n",
       "      <th>Length</th>\n",
       "      <th>Delta</th>\n",
       "      <th>Type</th>\n",
       "    </tr>\n",
       "  </thead>\n",
       "  <tbody>\n",
       "    <tr>\n",
       "      <th>0</th>\n",
       "      <td>4</td>\n",
       "      <td>Rcvd Link Key Request</td>\n",
       "      <td>9</td>\n",
       "      <td>0.010473</td>\n",
       "      <td>0</td>\n",
       "    </tr>\n",
       "    <tr>\n",
       "      <th>1</th>\n",
       "      <td>3</td>\n",
       "      <td>Sent Link Key Request Negative Reply</td>\n",
       "      <td>10</td>\n",
       "      <td>0.010473</td>\n",
       "      <td>0</td>\n",
       "    </tr>\n",
       "    <tr>\n",
       "      <th>2</th>\n",
       "      <td>4</td>\n",
       "      <td>Rcvd Link Key Request</td>\n",
       "      <td>9</td>\n",
       "      <td>0.017913</td>\n",
       "      <td>0</td>\n",
       "    </tr>\n",
       "    <tr>\n",
       "      <th>3</th>\n",
       "      <td>4</td>\n",
       "      <td>Rcvd Command Complete (Link Key Request Negati...</td>\n",
       "      <td>13</td>\n",
       "      <td>0.002642</td>\n",
       "      <td>0</td>\n",
       "    </tr>\n",
       "    <tr>\n",
       "      <th>4</th>\n",
       "      <td>3</td>\n",
       "      <td>Sent Link Key Request Negative Reply</td>\n",
       "      <td>10</td>\n",
       "      <td>0.002882</td>\n",
       "      <td>0</td>\n",
       "    </tr>\n",
       "  </tbody>\n",
       "</table>\n",
       "</div>"
      ],
      "text/plain": [
       "   Protocol                                               Info  Length  \\\n",
       "0         4                              Rcvd Link Key Request       9   \n",
       "1         3               Sent Link Key Request Negative Reply      10   \n",
       "2         4                              Rcvd Link Key Request       9   \n",
       "3         4  Rcvd Command Complete (Link Key Request Negati...      13   \n",
       "4         3               Sent Link Key Request Negative Reply      10   \n",
       "\n",
       "      Delta  Type  \n",
       "0  0.010473     0  \n",
       "1  0.010473     0  \n",
       "2  0.017913     0  \n",
       "3  0.002642     0  \n",
       "4  0.002882     0  "
      ]
     },
     "execution_count": 56,
     "metadata": {},
     "output_type": "execute_result"
    }
   ],
   "source": [
    "data.head()"
   ]
  },
  {
   "cell_type": "code",
   "execution_count": 11,
   "id": "6cd29ca6",
   "metadata": {},
   "outputs": [
    {
     "data": {
      "text/plain": [
       "Index(['Protocol', 'Info', 'Length', 'Delta', 'Type'], dtype='object')"
      ]
     },
     "execution_count": 11,
     "metadata": {},
     "output_type": "execute_result"
    }
   ],
   "source": [
    "data.columns"
   ]
  },
  {
   "cell_type": "markdown",
   "id": "ee2bd2b7",
   "metadata": {},
   "source": [
    "# Show the unique values of the type of attacks"
   ]
  },
  {
   "cell_type": "code",
   "execution_count": 13,
   "id": "44a0584d",
   "metadata": {},
   "outputs": [
    {
     "data": {
      "text/plain": [
       "array(['HCI_EVT', 'HCI_CMD', 'HCI H4 Broadcom', 'LMP', 'Baseband',\n",
       "       'L2CAP', 'SDP', 'BNEP', 'RFCOMM', 'OBEX'], dtype=object)"
      ]
     },
     "execution_count": 13,
     "metadata": {},
     "output_type": "execute_result"
    }
   ],
   "source": [
    "data.Protocol.unique()"
   ]
  },
  {
   "cell_type": "markdown",
   "id": "ec030f8e",
   "metadata": {},
   "source": [
    "# Count the frequencies of the type of attack"
   ]
  },
  {
   "cell_type": "code",
   "execution_count": 40,
   "id": "2e6cda6a",
   "metadata": {},
   "outputs": [
    {
     "data": {
      "text/plain": [
       "Protocol\n",
       "OBEX               2575\n",
       "LMP                1546\n",
       "HCI_EVT             964\n",
       "RFCOMM              638\n",
       "HCI_CMD             287\n",
       "L2CAP               231\n",
       "Baseband             78\n",
       "SDP                  44\n",
       "HCI H4 Broadcom      37\n",
       "BNEP                  2\n",
       "Name: count, dtype: int64"
      ]
     },
     "execution_count": 40,
     "metadata": {},
     "output_type": "execute_result"
    }
   ],
   "source": [
    "data['Protocol'].value_counts()"
   ]
  },
  {
   "cell_type": "markdown",
   "id": "ec2877eb",
   "metadata": {},
   "source": [
    "# Plot the frequencies of every type of attack"
   ]
  },
  {
   "cell_type": "code",
   "execution_count": 15,
   "id": "d1df5c7d",
   "metadata": {
    "scrolled": false
   },
   "outputs": [
    {
     "data": {
      "image/png": "[encoded data removed]",
      "text/plain": [
       "<Figure size 640x480 with 1 Axes>"
      ]
     },
     "metadata": {},
     "output_type": "display_data"
    }
   ],
   "source": [
    "sns.countplot(x='Protocol', data=data)\n",
    "plt.xticks(rotation=60)\n",
    "plt.show()\n"
   ]
  },
  {
   "cell_type": "markdown",
   "id": "96729eab",
   "metadata": {},
   "source": [
    "# Check for duplication"
   ]
  },
  {
   "cell_type": "code",
   "execution_count": 16,
   "id": "76f3e4be",
   "metadata": {},
   "outputs": [
    {
     "name": "stdout",
     "output_type": "stream",
     "text": [
      "Number of duplicated rows: 0\n"
     ]
    }
   ],
   "source": [
    "# Step 1: Check for duplicated rows\n",
    "duplicates = data.duplicated()\n",
    "\n",
    "# Step 2: Count the occurrences of duplicates\n",
    "duplicate_counts = duplicates.sum()\n",
    "print(\"Number of duplicated rows:\", duplicate_counts)\n"
   ]
  },
  {
   "cell_type": "markdown",
   "id": "eee08e34",
   "metadata": {},
   "source": [
    "# Building The Classification Models\n",
    "\n",
    "#### Classification models(Support Vector machine & Naive Bayes)"
   ]
  },
  {
   "cell_type": "markdown",
   "id": "9c8888d6",
   "metadata": {},
   "source": [
    "# Support Vector machine (SVM)"
   ]
  },
  {
   "cell_type": "markdown",
   "id": "1e2fc957",
   "metadata": {},
   "source": [
    "# Train the SVM model"
   ]
  },
  {
   "cell_type": "code",
   "execution_count": 20,
   "id": "1648b58f",
   "metadata": {},
   "outputs": [],
   "source": [
    "filepath = \"X_train.csv\"\n",
    "\n",
    "SVM = pd.read_csv(filepath, nrows=27000)"
   ]
  },
  {
   "cell_type": "code",
   "execution_count": 21,
   "id": "65821c29",
   "metadata": {},
   "outputs": [
    {
     "data": {
      "text/plain": [
       "(6402, 5)"
      ]
     },
     "execution_count": 21,
     "metadata": {},
     "output_type": "execute_result"
    }
   ],
   "source": [
    "SVM.shape"
   ]
  },
  {
   "cell_type": "code",
   "execution_count": 26,
   "id": "5c5588bc",
   "metadata": {},
   "outputs": [
    {
     "data": {
      "text/plain": [
       "0        9\n",
       "1       10\n",
       "2        9\n",
       "3       13\n",
       "4       10\n",
       "        ..\n",
       "6397    14\n",
       "6398     8\n",
       "6399    21\n",
       "6400    64\n",
       "6401    64\n",
       "Name: Length, Length: 6402, dtype: int64"
      ]
     },
     "execution_count": 26,
     "metadata": {},
     "output_type": "execute_result"
    }
   ],
   "source": [
    "data.Length"
   ]
  },
  {
   "cell_type": "code",
   "execution_count": 43,
   "id": "b041a1b9",
   "metadata": {},
   "outputs": [],
   "source": [
    "# Initialize a label encoder for the target\n",
    "label_encoder = LabelEncoder()\n",
    "data['Protocol'] = label_encoder.fit_transform(data['Protocol'])\n",
    "\n",
    "# Select features to one-hot encode\n",
    "features_to_encode = ['Type']\n",
    "\n",
    "# Create a column transformer to apply one-hot encoding to the specified features\n",
    "column_transformer = ColumnTransformer(\n",
    "    [('one_hot_encoder', OneHotEncoder(), features_to_encode)],\n",
    "    remainder='passthrough'  # Leave the rest of the columns untouched\n",
    ")\n",
    "\n",
    "# Apply the transformer to the data\n",
    "data_encoded = column_transformer.fit_transform(data)\n",
    "data_encoded = pd.DataFrame(data_encoded, columns=[*column_transformer.get_feature_names_out()])\n"
   ]
  },
  {
   "cell_type": "code",
   "execution_count": 47,
   "id": "12b2d6a5",
   "metadata": {},
   "outputs": [],
   "source": [
    "# Initialize a label encoder for the target\n",
    "label_encoder = LabelEncoder()\n",
    "data['Type'] = label_encoder.fit_transform(data['Type'])\n",
    "\n",
    "\n",
    "\n",
    "# Create a column transformer to apply one-hot encoding to the specified features\n",
    "column_transformer = ColumnTransformer(\n",
    "    [('one_hot_encoder', OneHotEncoder(), features_to_encode)],\n",
    "    remainder='passthrough'  # Leave the rest of the columns untouched\n",
    ")\n",
    "\n",
    "# Apply the transformer to the data\n",
    "data_encoded = column_transformer.fit_transform(data)\n",
    "data_encoded = pd.DataFrame(data_encoded, columns=[*column_transformer.get_feature_names_out()])\n"
   ]
  },
  {
   "cell_type": "code",
   "execution_count": 52,
   "id": "c834f9c3",
   "metadata": {},
   "outputs": [
    {
     "data": {
      "text/plain": [
       "array([ 0,  1,  2, 11,  3,  4,  7,  8, 10,  5,  6,  9])"
      ]
     },
     "execution_count": 52,
     "metadata": {},
     "output_type": "execute_result"
    }
   ],
   "source": [
    "data.Type.unique()"
   ]
  },
  {
   "cell_type": "code",
   "execution_count": 97,
   "id": "d43633c0",
   "metadata": {},
   "outputs": [
    {
     "name": "stdout",
     "output_type": "stream",
     "text": [
      "[LibSVM]Model Accuracy:  0.6474820143884892\n",
      "\n",
      "Classification Report:\n",
      "                 precision    recall  f1-score   support\n",
      "\n",
      "       Baseband       0.00      0.00      0.00         2\n",
      "HCI H4 Broadcom       0.00      0.00      0.00         1\n",
      "        HCI_CMD       0.00      0.00      0.00         6\n",
      "        HCI_EVT       0.00      0.00      0.00        31\n",
      "          L2CAP       0.00      0.00      0.00         1\n",
      "            LMP       0.40      1.00      0.57        33\n",
      "           OBEX       1.00      0.95      0.97        60\n",
      "         RFCOMM       0.00      0.00      0.00         5\n",
      "\n",
      "       accuracy                           0.65       139\n",
      "      macro avg       0.18      0.24      0.19       139\n",
      "   weighted avg       0.53      0.65      0.56       139\n",
      "\n",
      "\n",
      "\n",
      "Time taken:  0.0 seconds\n"
     ]
    }
   ],
   "source": [
    "from sklearn.svm import SVC\n",
    "# Define the features and target\n",
    "features = ['Length', 'Delta']\n",
    "target = 'Protocol'\n",
    "\n",
    "# Load the data\n",
    "X = SVM[features]\n",
    "Y = SVM[target]\n",
    "\n",
    "# Split the data into training and testing sets\n",
    "X_train, X_test, Y_train, Y_test = train_test_split(X, Y, random_state=10, test_size=0.2)\n",
    "\n",
    "# Create the SVM classifier model and fit it to the training data\n",
    "SVM_classifier = SVC(C=1.0, cache_size=1500, verbose=True)\n",
    "SVM_classifier.fit(X_train, Y_train)\n",
    "\n",
    "# Evaluate the model on the testing data\n",
    "score = SVM_classifier.score(X_test, Y_test)\n",
    "print('Model Accuracy: ', score)\n",
    "print()\n",
    "\n",
    "# Predict the labels of the test set\n",
    "y_pred = SVM_classifier.predict(X_test)\n",
    "\n",
    "# Suppress the UndefinedMetricWarning\n",
    "warnings.filterwarnings('ignore', category=UserWarning, module='sklearn.metrics')\n",
    "\n",
    "# Calculate the classification report of the model\n",
    "report = classification_report(Y_test, y_pred, zero_division=0)\n",
    "print('Classification Report:')\n",
    "print(report)\n",
    "print()\n",
    "\n",
    "# Calculate the time taken by the model to run\n",
    "start_time = time.time()\n",
    "print()\n",
    "end_time = time.time()\n",
    "print('Time taken: ', end_time - start_time, 'seconds')\n",
    "\n",
    "\n"
   ]
  },
  {
   "cell_type": "markdown",
   "id": "1dacb7b5",
   "metadata": {},
   "source": [
    "# Train the Naive Bayse model\n",
    "\n",
    "### Read the data"
   ]
  },
  {
   "cell_type": "code",
   "execution_count": 57,
   "id": "c37f43ea",
   "metadata": {},
   "outputs": [],
   "source": [
    "filepath = \"X_test.csv\"\n",
    "\n",
    "NP = pd.read_csv(filepath, nrows=27000)"
   ]
  },
  {
   "cell_type": "code",
   "execution_count": 58,
   "id": "3530c320",
   "metadata": {},
   "outputs": [
    {
     "name": "stdout",
     "output_type": "stream",
     "text": [
      "program start...\n",
      "\n",
      "\n",
      "0.5899280575539568\n",
      "\n",
      "['HCI_EVT' 'LMP' 'OBEX' 'OBEX' 'OBEX' 'HCI_EVT' 'HCI_CMD' 'HCI_EVT'\n",
      " 'RFCOMM' 'RFCOMM' 'HCI_CMD' 'RFCOMM' 'OBEX' 'RFCOMM' 'HCI_CMD'\n",
      " 'HCI H4 Broadcom' 'HCI_CMD' 'OBEX' 'OBEX' 'OBEX' 'LMP' 'HCI_EVT'\n",
      " 'HCI_EVT' 'HCI_EVT' 'OBEX' 'RFCOMM' 'HCI_CMD' 'HCI H4 Broadcom' 'OBEX'\n",
      " 'OBEX' 'OBEX' 'HCI_CMD' 'OBEX' 'HCI_CMD' 'OBEX' 'HCI_CMD' 'OBEX' 'LMP'\n",
      " 'HCI_CMD' 'HCI_CMD' 'RFCOMM' 'HCI_CMD' 'HCI_CMD' 'OBEX' 'HCI_CMD' 'OBEX'\n",
      " 'RFCOMM' 'HCI_EVT' 'OBEX' 'HCI_CMD' 'OBEX' 'RFCOMM' 'HCI_EVT' 'LMP'\n",
      " 'HCI_CMD' 'HCI_EVT' 'RFCOMM' 'OBEX' 'HCI_EVT' 'OBEX' 'HCI_CMD' 'LMP'\n",
      " 'LMP' 'HCI_CMD' 'OBEX' 'OBEX' 'HCI_CMD' 'OBEX' 'HCI_CMD'\n",
      " 'HCI H4 Broadcom' 'HCI_CMD' 'RFCOMM' 'HCI_CMD' 'HCI_CMD' 'OBEX' 'HCI_CMD'\n",
      " 'HCI_EVT' 'LMP' 'RFCOMM' 'RFCOMM' 'OBEX' 'OBEX' 'OBEX' 'HCI_EVT'\n",
      " 'HCI_CMD' 'HCI_EVT' 'HCI H4 Broadcom' 'OBEX' 'HCI_EVT' 'OBEX' 'OBEX'\n",
      " 'HCI_CMD' 'Baseband' 'HCI_CMD' 'HCI_EVT' 'HCI_EVT' 'RFCOMM' 'LMP'\n",
      " 'HCI_CMD' 'OBEX' 'OBEX' 'RFCOMM' 'OBEX' 'HCI_CMD' 'HCI_EVT' 'HCI_CMD'\n",
      " 'OBEX' 'OBEX' 'HCI_CMD' 'HCI_EVT' 'OBEX' 'OBEX' 'OBEX' 'OBEX' 'OBEX'\n",
      " 'HCI_CMD' 'HCI_EVT' 'OBEX' 'HCI_EVT' 'OBEX' 'Baseband' 'HCI_CMD' 'LMP'\n",
      " 'L2CAP' 'HCI_CMD' 'OBEX' 'HCI_EVT' 'RFCOMM' 'HCI H4 Broadcom' 'LMP'\n",
      " 'OBEX' 'LMP' 'HCI_CMD' 'HCI_CMD' 'OBEX' 'HCI_EVT' 'OBEX' 'OBEX' 'HCI_EVT']\n",
      "\n",
      "0.007002115249633789 seconds\n",
      "Classification Report:\n",
      "                 precision    recall  f1-score   support\n",
      "\n",
      "       Baseband       0.50      1.00      0.67         1\n",
      "HCI H4 Broadcom       0.20      1.00      0.33         1\n",
      "        HCI_CMD       0.20      0.78      0.32         9\n",
      "        HCI_EVT       0.17      0.15      0.16        27\n",
      "          L2CAP       0.00      0.00      0.00         0\n",
      "            LMP       1.00      0.26      0.42        42\n",
      "           OBEX       1.00      0.98      0.99        48\n",
      "         RFCOMM       0.73      1.00      0.85        11\n",
      "\n",
      "       accuracy                           0.59       139\n",
      "      macro avg       0.48      0.65      0.47       139\n",
      "   weighted avg       0.76      0.59      0.59       139\n",
      "\n"
     ]
    }
   ],
   "source": [
    "\n",
    "features = ['Length', 'Delta', 'Type']\n",
    "target = 'Protocol'\n",
    "\n",
    "# Normalize the features\n",
    "scaler = MinMaxScaler()\n",
    "normalized_X = scaler.fit_transform(X)\n",
    "\n",
    "# Split data into train and test sets\n",
    "X_train, X_test, Y_train, Y_test = train_test_split(normalized_X, Y, random_state=100, test_size=0.2)\n",
    "\n",
    "# Suppress the UndefinedMetricWarning\n",
    "warnings.filterwarnings('ignore', category=UserWarning, module='sklearn.metrics')\n",
    "\n",
    "clf = GaussianNB()\n",
    "\n",
    "start = time.time()\n",
    "print('program start...')\n",
    "print()\n",
    "\n",
    "clf.fit(X_train, Y_train)\n",
    "print()\n",
    "print(clf.score(X_test, Y_test))\n",
    "print()\n",
    "\n",
    "y_pred = clf.predict(X_test)\n",
    "print(y_pred)\n",
    "print()\n",
    "\n",
    "end = time.time()\n",
    "\n",
    "print(end - start, 'seconds')\n",
    "\n",
    "print(\"Classification Report:\")\n",
    "print(classification_report(Y_test, y_pred))\n"
   ]
  },
  {
   "cell_type": "markdown",
   "id": "3a13a19a",
   "metadata": {},
   "source": [
    "\n",
    "\n",
    "## Classification models( Decision Tree & Neural Networks)\n",
    "\n",
    "### Read the dataframe\n"
   ]
  },
  {
   "cell_type": "code",
   "execution_count": 59,
   "id": "f579267d",
   "metadata": {},
   "outputs": [],
   "source": [
    "filepath = \"X_Train.csv\"\n",
    "DS = pd.read_csv(filepath, nrows=27000)"
   ]
  },
  {
   "cell_type": "markdown",
   "id": "99179a07",
   "metadata": {},
   "source": [
    "# Train Decision Tree Model (Highest Accuracy)"
   ]
  },
  {
   "cell_type": "code",
   "execution_count": 61,
   "id": "4087d926",
   "metadata": {},
   "outputs": [
    {
     "name": "stdout",
     "output_type": "stream",
     "text": [
      "program start...\n",
      "\n",
      "\n",
      "0.9039812646370023\n",
      "\n",
      "['OBEX' 'RFCOMM' 'L2CAP' ... 'LMP' 'OBEX' 'OBEX']\n",
      "\n",
      "program end...\n",
      "\n",
      "time cost: \n",
      "0.031014680862426758 seconds\n",
      "Classification Report:\n",
      "                 precision    recall  f1-score   support\n",
      "\n",
      "       Baseband       1.00      1.00      1.00        13\n",
      "HCI H4 Broadcom       0.25      0.20      0.22        10\n",
      "        HCI_CMD       0.69      0.79      0.73        47\n",
      "        HCI_EVT       0.87      0.86      0.86       190\n",
      "          L2CAP       0.67      0.61      0.64        46\n",
      "            LMP       0.86      0.89      0.87       311\n",
      "           OBEX       0.99      0.99      0.99       523\n",
      "         RFCOMM       0.93      0.88      0.91       131\n",
      "            SDP       0.60      0.60      0.60        10\n",
      "\n",
      "       accuracy                           0.90      1281\n",
      "      macro avg       0.76      0.76      0.76      1281\n",
      "   weighted avg       0.90      0.90      0.90      1281\n",
      "\n"
     ]
    }
   ],
   "source": [
    "from sklearn.tree import DecisionTreeClassifier\n",
    "from sklearn.model_selection import train_test_split\n",
    "from sklearn.metrics import classification_report\n",
    "import time\n",
    "import warnings\n",
    "\n",
    "features = ['Length', 'Delta']\n",
    "target = 'Protocol'\n",
    "# Split data into train and test sets\n",
    "X_train, X_test, Y_train, Y_test = train_test_split(DS[features], DS[target], random_state=5, test_size=0.2)\n",
    "\n",
    "# Create Decision Tree classifier\n",
    "classifier = DecisionTreeClassifier()\n",
    "\n",
    "start = time.time()\n",
    "print('program start...')\n",
    "print()\n",
    "\n",
    "# Fit the model\n",
    "classifier.fit(X_train, Y_train)\n",
    "print()\n",
    "\n",
    "# Evaluate the model\n",
    "score = classifier.score(X_test, Y_test)\n",
    "print(score)\n",
    "print()\n",
    "y_pred = classifier.predict(X_test)\n",
    "print(y_pred)\n",
    "print()\n",
    "\n",
    "end = time.time()\n",
    "print('program end...')\n",
    "print()\n",
    "print('time cost: ')\n",
    "print(end - start, 'seconds')\n",
    "\n",
    "# Suppress the UndefinedMetricWarning\n",
    "warnings.filterwarnings('ignore', category=UserWarning, module='sklearn.metrics')\n",
    "\n",
    "print(\"Classification Report:\")\n",
    "print(classification_report(Y_test, y_pred))\n"
   ]
  },
  {
   "cell_type": "markdown",
   "id": "d3a77eef",
   "metadata": {},
   "source": [
    "# Save the model with the highest accuracy \n",
    "\n",
    "Since the desition tree model is the model with the highest classification accuracy, we will save it as .pkl"
   ]
  },
  {
   "cell_type": "markdown",
   "id": "fe7f449e",
   "metadata": {},
   "source": [
    "# Save it into a pkl"
   ]
  },
  {
   "cell_type": "code",
   "execution_count": null,
   "id": "89bb86f0",
   "metadata": {},
   "outputs": [],
   "source": []
  },
  {
   "cell_type": "code",
   "execution_count": 99,
   "id": "698feeaa",
   "metadata": {},
   "outputs": [
    {
     "name": "stdout",
     "output_type": "stream",
     "text": [
      "Accuracy: 0.9055425448868072\n",
      "Classification Report:\n",
      "                 precision    recall  f1-score   support\n",
      "\n",
      "       Baseband       1.00      1.00      1.00        13\n",
      "HCI H4 Broadcom       0.25      0.20      0.22        10\n",
      "        HCI_CMD       0.70      0.79      0.74        47\n",
      "        HCI_EVT       0.87      0.86      0.87       190\n",
      "          L2CAP       0.67      0.61      0.64        46\n",
      "            LMP       0.86      0.89      0.87       311\n",
      "           OBEX       0.99      0.99      0.99       523\n",
      "         RFCOMM       0.93      0.88      0.91       131\n",
      "            SDP       0.67      0.60      0.63        10\n",
      "\n",
      "       accuracy                           0.91      1281\n",
      "      macro avg       0.77      0.76      0.76      1281\n",
      "   weighted avg       0.91      0.91      0.91      1281\n",
      "\n",
      "Pipeline saved as decision_tree_pipeline.pkl\n"
     ]
    }
   ],
   "source": [
    "from sklearn.model_selection import train_test_split\n",
    "from sklearn.tree import DecisionTreeClassifier\n",
    "from sklearn.pipeline import Pipeline\n",
    "from sklearn.metrics import classification_report\n",
    "import joblib\n",
    "\n",
    "# Assuming DS is your dataset and it has been previously defined\n",
    "# Select features and target variable\n",
    "features = ['Length', 'Delta']\n",
    "target = 'Protocol'\n",
    "\n",
    "# Split data into train and test sets\n",
    "X_train, X_test, Y_train, Y_test = train_test_split(DS[features], DS[target], random_state=5, test_size=0.2)\n",
    "\n",
    "# Create pipeline with Decision Tree classifier\n",
    "pipeline = Pipeline([\n",
    "    ('classifier', DecisionTreeClassifier())\n",
    "])\n",
    "\n",
    "# Fit the model using the pipeline\n",
    "pipeline.fit(X_train, Y_train)\n",
    "\n",
    "# Evaluate the model\n",
    "accuracy = pipeline.score(X_test, Y_test)\n",
    "print(\"Accuracy:\", accuracy)\n",
    "\n",
    "# Make predictions on the test set\n",
    "y_pred = pipeline.predict(X_test)\n",
    "\n",
    "# Print classification report\n",
    "print(\"Classification Report:\")\n",
    "print(classification_report(Y_test, y_pred))\n",
    "\n",
    "# Save the pipeline as a .pkl file\n",
    "filename = 'decision_tree_pipeline.pkl'\n",
    "joblib.dump(pipeline, filename)\n",
    "print(\"Pipeline saved as\", filename)\n"
   ]
  },
  {
   "cell_type": "code",
   "execution_count": null,
   "id": "f09725e2",
   "metadata": {},
   "outputs": [],
   "source": []
  }
 ],
 "metadata": {
  "kernelspec": {
   "display_name": "Python 3 (ipykernel)",
   "language": "python",
   "name": "python3"
  },
  "language_info": {
   "codemirror_mode": {
    "name": "ipython",
    "version": 3
   },
   "file_extension": ".py",
   "mimetype": "text/x-python",
   "name": "python",
   "nbconvert_exporter": "python",
   "pygments_lexer": "ipython3",
   "version": "3.11.5"
  }
 },
 "nbformat": 4,
 "nbformat_minor": 5
}
